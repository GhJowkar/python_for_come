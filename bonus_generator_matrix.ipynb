{
 "cells": [
  {
   "cell_type": "markdown",
   "id": "b1690b77",
   "metadata": {},
   "source": [
    "# Generator matrix example\n",
    "\n",
    "To get started with 'Q' matrix, we begin by importing some useful python packages:\n"
   ]
  },
  {
   "cell_type": "code",
   "execution_count": null,
   "id": "df6ee926",
   "metadata": {},
   "outputs": [],
   "source": []
  }
 ],
 "metadata": {
  "kernelspec": {
   "display_name": "Python 3 (ipykernel)",
   "language": "python",
   "name": "python3"
  },
  "language_info": {
   "codemirror_mode": {
    "name": "ipython",
    "version": 3
   },
   "file_extension": ".py",
   "mimetype": "text/x-python",
   "name": "python",
   "nbconvert_exporter": "python",
   "pygments_lexer": "ipython3",
   "version": "3.7.11"
  }
 },
 "nbformat": 4,
 "nbformat_minor": 5
}
