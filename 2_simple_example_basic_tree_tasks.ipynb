{
 "cells": [
  {
   "cell_type": "markdown",
   "id": "8418bc31",
   "metadata": {},
   "source": [
    "# Tree example\n",
    "\n",
    "To get started with tree, we begin by importing some useful python packages:\n"
   ]
  },
  {
   "cell_type": "code",
   "execution_count": 2,
   "id": "83d8e2f4",
   "metadata": {},
   "outputs": [],
   "source": [
    "from ete3 import Tree"
   ]
  },
  {
   "cell_type": "markdown",
   "id": "2be5563f",
   "metadata": {},
   "source": [
    "Read the raw sequence:"
   ]
  },
  {
   "cell_type": "code",
   "execution_count": 3,
   "id": "4b08fb9c",
   "metadata": {},
   "outputs": [],
   "source": [
    "tree = Tree('./samples/tree.newick')"
   ]
  },
  {
   "cell_type": "markdown",
   "id": "275eeb53",
   "metadata": {},
   "source": [
    "Traverse the tree:"
   ]
  },
  {
   "cell_type": "code",
   "execution_count": 4,
   "id": "f029f7f4",
   "metadata": {},
   "outputs": [
    {
     "name": "stdout",
     "output_type": "stream",
     "text": [
      "The given name is: leaf_1\n",
      "The new name is: new_leaf_1\n",
      "The given name is: leaf_6\n",
      "The new name is: new_leaf_6\n",
      "The given name is: leaf_5\n",
      "The new name is: new_leaf_5\n",
      "The given name is: leaf_7\n",
      "The new name is: new_leaf_7\n",
      "The given name is: leaf_3\n",
      "The new name is: new_leaf_3\n",
      "The given name is: leaf_2\n",
      "The new name is: new_leaf_2\n",
      "The given name is: leaf_0\n",
      "The new name is: new_leaf_0\n",
      "The given name is: leaf_4\n",
      "The new name is: new_leaf_4\n"
     ]
    }
   ],
   "source": [
    "for node in tree.traverse(strategy='postorder'):\n",
    "    if node.is_leaf():\n",
    "        print(\"The given name is:\", node.name)\n",
    "        node.name = 'new_' + node.name\n",
    "        print(\"The new name is:\", node.name)"
   ]
  },
  {
   "cell_type": "markdown",
   "id": "2a7382ca",
   "metadata": {},
   "source": [
    "Store branch lengths and compute the total tree length:"
   ]
  },
  {
   "cell_type": "code",
   "execution_count": 7,
   "id": "ee57d4c5",
   "metadata": {},
   "outputs": [
    {
     "name": "stdout",
     "output_type": "stream",
     "text": [
      "The total tree length: 7.178\n",
      "The branch length list: [0.028, 0.78, 0.86, 1.2, 0.14, 0.45, 0.77, 0.05, 0.03, 0.31, 1.64, 0.47, 0.44, 0.01, 0.0]\n"
     ]
    }
   ],
   "source": [
    "lst_br_len = []\n",
    "total_tr_len = 0\n",
    "\n",
    "for n in tree.traverse(strategy=\"postorder\"):\n",
    "        total_tr_len += n.dist\n",
    "        lst_br_len.append(n.dist)\n",
    "\n",
    "print(\"The total tree length:\", total_tr_len)\n",
    "print(\"The branch length list:\", lst_br_len)"
   ]
  }
 ],
 "metadata": {
  "kernelspec": {
   "display_name": "Python 3 (ipykernel)",
   "language": "python",
   "name": "python3"
  },
  "language_info": {
   "codemirror_mode": {
    "name": "ipython",
    "version": 3
   },
   "file_extension": ".py",
   "mimetype": "text/x-python",
   "name": "python",
   "nbconvert_exporter": "python",
   "pygments_lexer": "ipython3",
   "version": "3.7.11"
  }
 },
 "nbformat": 4,
 "nbformat_minor": 5
}
