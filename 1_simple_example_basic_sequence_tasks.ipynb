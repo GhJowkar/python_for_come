{
 "cells": [
  {
   "cell_type": "markdown",
   "id": "4f5c82f7",
   "metadata": {},
   "source": [
    "# Sequence example\n",
    "\n",
    "To get started with sequences, we begin by importing some useful python packages:\n"
   ]
  },
  {
   "cell_type": "code",
   "execution_count": 1,
   "id": "0282f4db",
   "metadata": {},
   "outputs": [],
   "source": [
    "# useful imports\n",
    "import numpy as np\n",
    "import pandas as pd\n",
    "from Bio import AlignIO, SeqIO, Seq "
   ]
  },
  {
   "cell_type": "markdown",
   "id": "f5f3cb3c",
   "metadata": {},
   "source": [
    "#### Read the raw sequence:"
   ]
  },
  {
   "cell_type": "code",
   "execution_count": 6,
   "id": "b3f33d5a",
   "metadata": {},
   "outputs": [],
   "source": [
    "rna_itr = SeqIO.parse('./samples/sequence.fasta', 'fasta')"
   ]
  },
  {
   "cell_type": "markdown",
   "id": "5fe8d521",
   "metadata": {},
   "source": [
    "#### Translation (Convert the RNA sequence to the Amino Acids):"
   ]
  },
  {
   "cell_type": "code",
   "execution_count": 7,
   "id": "3cc80110",
   "metadata": {},
   "outputs": [
    {
     "name": "stdout",
     "output_type": "stream",
     "text": [
      "The translation is done.\n"
     ]
    }
   ],
   "source": [
    "aa_itr = [] # Defining an array to store the translated sequence\n",
    "\n",
    "for record in rna_itr:\n",
    "    if ((len(record.seq))%3 != 0): # A codon is the triplet of a set of bases\n",
    "        print(\"The sequence %s 's length is not devided by three\" %record.id)\n",
    "    # Translation is terminated at the first in frame stop codon o.w.use False.\n",
    "    tmp_aa = record.translate(to_stop=True) \n",
    "    tmp_aa.id = record.id    \n",
    "    aa_itr.append(tmp_aa)\n",
    "\n",
    "print(\"The translation is done.\")   "
   ]
  },
  {
   "cell_type": "markdown",
   "id": "637386b0",
   "metadata": {},
   "source": [
    "#### Save the result in the a 'fasta' file:"
   ]
  },
  {
   "cell_type": "code",
   "execution_count": 8,
   "id": "64e11960",
   "metadata": {},
   "outputs": [
    {
     "data": {
      "text/plain": [
       "8"
      ]
     },
     "execution_count": 8,
     "metadata": {},
     "output_type": "execute_result"
    }
   ],
   "source": [
    "SeqIO.write(aa_itr, './samples/sequence_aa.fasta', 'fasta')"
   ]
  },
  {
   "cell_type": "markdown",
   "id": "74ab4e1e",
   "metadata": {},
   "source": [
    "#### Read the multiple sequence alignment(MSA):"
   ]
  },
  {
   "cell_type": "code",
   "execution_count": 12,
   "id": "96a59f59",
   "metadata": {},
   "outputs": [],
   "source": [
    "align = AlignIO.read('./samples/msa.fasta', 'fasta')"
   ]
  },
  {
   "cell_type": "markdown",
   "id": "0cf93b2d",
   "metadata": {},
   "source": [
    "#### Convert alignment file from 'Fasta' to 'Phylip':"
   ]
  },
  {
   "cell_type": "code",
   "execution_count": 13,
   "id": "5b0d5f6c",
   "metadata": {},
   "outputs": [
    {
     "data": {
      "text/plain": [
       "1"
      ]
     },
     "execution_count": 13,
     "metadata": {},
     "output_type": "execute_result"
    }
   ],
   "source": [
    "AlignIO.write(align, './samples/msa.phy', 'phylip')# phylip-relaxed or phylip"
   ]
  },
  {
   "cell_type": "markdown",
   "id": "b86f25a5",
   "metadata": {},
   "source": [
    "###Get alignment length:"
   ]
  },
  {
   "cell_type": "code",
   "execution_count": 17,
   "id": "4e8839b7",
   "metadata": {},
   "outputs": [
    {
     "name": "stdout",
     "output_type": "stream",
     "text": [
      "The total lenght of alignment is 100.\n"
     ]
    }
   ],
   "source": [
    "print(\"The total lenght of alignment is %s.\" %align.get_alignment_length())"
   ]
  },
  {
   "cell_type": "markdown",
   "id": "2152d394",
   "metadata": {},
   "source": [
    "Convert msa to numpy matrix:"
   ]
  },
  {
   "cell_type": "code",
   "execution_count": 3,
   "id": "85dafff4",
   "metadata": {},
   "outputs": [
    {
     "name": "stdout",
     "output_type": "stream",
     "text": [
      "Alignment Matrix:\n",
      "[['-' 'C' 'C' 'C' 'T' 'C' 'A' '-' 'T' 'T' '-' 'C' 'C' '-' 'G' 'A' '-' '-'\n",
      "  'C' 'G' 'C' 'G' 'C' 'T' 'C' '-' 'T' 'C' 'T' '-' 'G' 'G' 'A' '-' 'A' 'C'\n",
      "  '-' 'G' 'A' 'T' 'T' 'G' 'G' '-' 'T' 'T' '-' 'C' 'T' 'G' 'T' 'C' '-' 'T'\n",
      "  'A' 'C' '-' 'A' 'A' 'T' 'C' 'T' 'A' 'A' 'T' 'A' '-' 'A' 'T' 'T' 'T' 'T'\n",
      "  'A' '-' 'C' 'C' 'A' 'T' 'G' '-' 'C' 'A' 'T' 'G' '-' 'C' 'G' '-' '-' 'T'\n",
      "  '-' 'G' '-' 'C' 'A' 'A' 'T' '-' 'A' 'G']\n",
      " ['-' 'T' 'C' 'C' 'T' 'C' 'A' '-' 'C' 'T' '-' 'C' 'C' '-' 'G' 'A' '-' '-'\n",
      "  'C' 'G' 'C' 'G' 'C' 'T' 'T' '-' 'T' 'C' 'T' '-' 'G' 'G' 'A' '-' 'A' 'C'\n",
      "  '-' 'G' 'A' 'C' 'T' 'G' 'G' '-' 'T' '-' '-' 'C' 'T' 'G' 'T' 'C' '-' 'T'\n",
      "  'A' 'C' '-' 'A' 'A' 'T' 'C' 'T' 'A' 'A' 'T' 'A' '-' 'A' 'T' 'T' 'T' 'T'\n",
      "  'G' '-' 'C' 'C' 'A' 'T' 'G' '-' 'C' 'A' 'T' 'G' '-' 'C' 'G' '-' '-' 'T'\n",
      "  '-' 'G' '-' 'C' 'A' 'A' 'T' '-' 'A' 'G']\n",
      " ['-' 'C' 'C' 'C' 'T' 'C' 'A' '-' 'T' 'C' '-' 'A' 'C' '-' 'G' 'A' '-' '-'\n",
      "  'C' 'G' 'C' 'G' 'C' 'T' 'C' '-' 'T' 'C' 'G' '-' 'G' 'G' 'A' '-' 'A' 'C'\n",
      "  '-' 'G' 'A' 'T' 'T' 'G' 'C' '-' 'T' '-' '-' 'C' 'T' 'G' 'T' 'C' '-' 'C'\n",
      "  'A' 'C' '-' 'A' 'A' 'T' 'C' 'T' 'A' 'A' 'T' 'A' '-' 'A' 'T' 'T' 'T' 'T'\n",
      "  'A' '-' 'C' 'C' 'A' 'T' 'G' '-' 'C' 'A' 'T' 'G' '-' 'T' 'G' '-' '-' 'C'\n",
      "  '-' 'G' 'A' 'C' 'A' 'A' 'T' '-' 'A' 'G']\n",
      " ['T' 'C' 'C' 'G' 'T' 'C' 'G' '-' 'T' 'T' '-' 'A' 'C' '-' 'G' 'A' '-' '-'\n",
      "  'C' 'G' 'C' 'G' 'C' 'T' 'C' '-' 'T' 'C' 'G' '-' 'A' 'G' 'A' '-' 'G' 'C'\n",
      "  '-' 'G' 'A' 'T' 'T' 'G' 'A' '-' 'A' '-' '-' 'T' 'T' 'G' 'T' 'C' 'T' 'C'\n",
      "  'A' 'C' '-' 'G' 'A' 'T' 'C' 'T' 'A' 'A' 'T' 'A' '-' 'A' 'A' 'C' 'T' 'T'\n",
      "  'A' '-' 'C' 'C' 'A' 'T' 'A' 'A' 'A' 'A' 'A' 'G' '-' 'T' 'G' '-' 'C' 'C'\n",
      "  '-' 'A' '-' 'C' 'A' 'A' 'T' '-' 'A' 'G']\n",
      " ['-' 'C' 'C' 'C' 'T' 'C' 'G' '-' 'A' 'T' 'G' 'A' 'T' '-' 'G' 'A' 'C' 'G'\n",
      "  'C' 'G' 'C' 'G' 'C' 'T' 'C' '-' 'T' 'C' 'G' '-' 'G' 'G' 'A' '-' 'G' 'C'\n",
      "  'G' 'G' 'A' 'T' 'T' 'G' 'A' '-' 'A' '-' '-' 'T' 'T' 'G' 'T' 'C' 'T' 'G'\n",
      "  'A' 'C' 'T' 'G' 'A' 'T' 'C' 'T' 'A' 'A' 'T' 'A' 'C' 'A' 'G' 'C' 'T' 'T'\n",
      "  'A' '-' 'C' 'C' 'A' 'T' 'G' '-' 'A' 'A' 'A' 'A' '-' 'T' 'G' 'T' 'C' 'C'\n",
      "  '-' 'G' '-' 'C' 'A' 'A' 'T' '-' 'A' 'G']\n",
      " ['-' 'C' 'T' 'C' 'T' 'C' 'G' '-' 'T' 'C' '-' 'G' 'C' '-' 'G' 'G' '-' '-'\n",
      "  'C' 'G' 'C' 'G' 'C' 'A' 'A' 'A' 'T' 'C' 'G' '-' 'G' 'A' 'C' '-' 'G' 'T'\n",
      "  'G' 'G' 'A' 'T' 'C' 'G' 'G' '-' 'A' '-' 'G' 'G' 'T' 'G' 'T' 'C' 'T' 'C'\n",
      "  'A' 'C' '-' 'G' 'A' 'G' 'C' 'C' 'A' 'A' 'T' 'A' '-' 'A' 'A' 'C' 'T' 'T'\n",
      "  'T' '-' 'C' 'C' 'A' 'T' 'G' '-' 'A' 'A' 'A' 'G' '-' 'T' 'G' '-' '-' 'C'\n",
      "  '-' 'C' 'A' 'A' 'A' 'G' 'T' '-' 'A' 'G']\n",
      " ['-' 'C' 'C' 'C' 'T' 'C' 'G' 'T' 'T' 'T' '-' 'A' 'C' 'T' 'G' 'A' '-' '-'\n",
      "  'C' 'G' 'C' 'G' 'C' 'T' 'C' '-' 'T' 'C' 'G' '-' 'G' 'G' 'A' '-' 'A' 'G'\n",
      "  '-' 'G' 'A' 'T' 'T' 'G' 'A' '-' 'T' '-' '-' 'C' 'T' 'G' 'T' 'C' '-' 'C'\n",
      "  'A' 'T' '-' 'A' 'A' 'T' 'C' 'T' 'A' 'A' 'T' 'A' '-' 'T' 'T' 'T' 'T' 'T'\n",
      "  'A' 'A' 'C' 'C' 'G' 'T' 'G' '-' 'C' 'A' 'T' 'A' '-' 'C' 'G' '-' 'C' 'T'\n",
      "  '-' 'G' '-' 'C' 'A' 'A' 'T' '-' 'A' 'C']\n",
      " ['-' 'C' 'C' 'C' 'T' 'C' 'A' '-' 'T' 'T' '-' 'C' 'G' '-' '-' 'A' '-' '-'\n",
      "  'C' 'G' 'C' 'G' 'C' 'T' 'C' '-' 'T' 'C' 'T' '-' 'G' 'G' 'A' '-' 'A' 'C'\n",
      "  '-' 'G' 'A' 'T' 'T' 'G' 'G' '-' 'T' '-' '-' 'C' 'T' 'G' 'T' 'C' '-' 'C'\n",
      "  'A' 'C' '-' 'A' 'A' 'T' 'C' 'T' 'A' 'A' 'T' 'A' '-' 'A' 'T' 'T' 'T' 'T'\n",
      "  'A' '-' 'C' 'C' 'A' 'T' 'G' '-' 'C' 'A' 'T' 'G' '-' 'C' 'G' '-' '-' 'T'\n",
      "  '-' 'G' '-' 'C' 'A' 'A' 'T' 'G' 'G' 'G']]\n"
     ]
    }
   ],
   "source": [
    "# Read the MSA file\n",
    "align = AlignIO.read('./samples/msa.fasta', 'fasta')\n",
    "\n",
    "# Get the number of rows (sequences) and columns (alignment length)\n",
    "num_sequences = len(align)\n",
    "alignment_length = align.get_alignment_length()\n",
    "\n",
    "# Extract sequences as a list of strings\n",
    "sequences = [str(record.seq) for record in align]\n",
    "\n",
    "# Create an empty NumPy matrix filled with gaps (e.g., '-')\n",
    "alignment_matrix = np.full((len(sequences), alignment_length), '-', dtype='U1')\n",
    "\n",
    "# Fill the NumPy matrix with the aligned sequences\n",
    "for i, seq in enumerate(sequences):\n",
    "    alignment_matrix[i, :len(seq)] = list(seq)\n",
    "\n",
    "# Print the NumPy matrix\n",
    "print(\"Alignment Matrix:\")\n",
    "print(alignment_matrix)\n"
   ]
  },
  {
   "cell_type": "markdown",
   "id": "a7d29fae",
   "metadata": {},
   "source": [
    "Map characters to digits in numpy "
   ]
  },
  {
   "cell_type": "code",
   "execution_count": 16,
   "id": "51870fc8",
   "metadata": {},
   "outputs": [
    {
     "name": "stdout",
     "output_type": "stream",
     "text": [
      "The letter and their corresponding codes:\n",
      " {'A': 1, 'C': 2, 'G': 3, 'T': 4, 'X': 0, 'N': 0, 'B': 0, '-': -1}\n",
      "\n",
      "Alignment Matrix:\n",
      "\n",
      "[[-1  2  2  2  4  2  1 -1  4  4 -1  2  2 -1  3  1 -1 -1  2  3  2  3  2  4\n",
      "   2 -1  4  2  4 -1  3  3  1 -1  1  2 -1  3  1  4  4  3  3 -1  4  4 -1  2\n",
      "   4  3  4  2 -1  4  1  2 -1  1  1  4  2  4  1  1  4  1 -1  1  4  4  4  4\n",
      "   1 -1  2  2  1  4  3 -1  2  1  4  3 -1  2  3 -1 -1  4 -1  3 -1  2  1  1\n",
      "   4 -1  1  3]\n",
      " [-1  4  2  2  4  2  1 -1  2  4 -1  2  2 -1  3  1 -1 -1  2  3  2  3  2  4\n",
      "   4 -1  4  2  4 -1  3  3  1 -1  1  2 -1  3  1  2  4  3  3 -1  4 -1 -1  2\n",
      "   4  3  4  2 -1  4  1  2 -1  1  1  4  2  4  1  1  4  1 -1  1  4  4  4  4\n",
      "   3 -1  2  2  1  4  3 -1  2  1  4  3 -1  2  3 -1 -1  4 -1  3 -1  2  1  1\n",
      "   4 -1  1  3]\n",
      " [-1  2  2  2  4  2  1 -1  4  2 -1  1  2 -1  3  1 -1 -1  2  3  2  3  2  4\n",
      "   2 -1  4  2  3 -1  3  3  1 -1  1  2 -1  3  1  4  4  3  2 -1  4 -1 -1  2\n",
      "   4  3  4  2 -1  2  1  2 -1  1  1  4  2  4  1  1  4  1 -1  1  4  4  4  4\n",
      "   1 -1  2  2  1  4  3 -1  2  1  4  3 -1  4  3 -1 -1  2 -1  3  1  2  1  1\n",
      "   4 -1  1  3]\n",
      " [ 4  2  2  3  4  2  3 -1  4  4 -1  1  2 -1  3  1 -1 -1  2  3  2  3  2  4\n",
      "   2 -1  4  2  3 -1  1  3  1 -1  3  2 -1  3  1  4  4  3  1 -1  1 -1 -1  4\n",
      "   4  3  4  2  4  2  1  2 -1  3  1  4  2  4  1  1  4  1 -1  1  1  2  4  4\n",
      "   1 -1  2  2  1  4  1  1  1  1  1  3 -1  4  3 -1  2  2 -1  1 -1  2  1  1\n",
      "   4 -1  1  3]\n",
      " [-1  2  2  2  4  2  3 -1  1  4  3  1  4 -1  3  1  2  3  2  3  2  3  2  4\n",
      "   2 -1  4  2  3 -1  3  3  1 -1  3  2  3  3  1  4  4  3  1 -1  1 -1 -1  4\n",
      "   4  3  4  2  4  3  1  2  4  3  1  4  2  4  1  1  4  1  2  1  3  2  4  4\n",
      "   1 -1  2  2  1  4  3 -1  1  1  1  1 -1  4  3  4  2  2 -1  3 -1  2  1  1\n",
      "   4 -1  1  3]\n",
      " [-1  2  4  2  4  2  3 -1  4  2 -1  3  2 -1  3  3 -1 -1  2  3  2  3  2  1\n",
      "   1  1  4  2  3 -1  3  1  2 -1  3  4  3  3  1  4  2  3  3 -1  1 -1  3  3\n",
      "   4  3  4  2  4  2  1  2 -1  3  1  3  2  2  1  1  4  1 -1  1  1  2  4  4\n",
      "   4 -1  2  2  1  4  3 -1  1  1  1  3 -1  4  3 -1 -1  2 -1  2  1  1  1  3\n",
      "   4 -1  1  3]\n",
      " [-1  2  2  2  4  2  3  4  4  4 -1  1  2  4  3  1 -1 -1  2  3  2  3  2  4\n",
      "   2 -1  4  2  3 -1  3  3  1 -1  1  3 -1  3  1  4  4  3  1 -1  4 -1 -1  2\n",
      "   4  3  4  2 -1  2  1  4 -1  1  1  4  2  4  1  1  4  1 -1  4  4  4  4  4\n",
      "   1  1  2  2  3  4  3 -1  2  1  4  1 -1  2  3 -1  2  4 -1  3 -1  2  1  1\n",
      "   4 -1  1  2]\n",
      " [-1  2  2  2  4  2  1 -1  4  4 -1  2  3 -1 -1  1 -1 -1  2  3  2  3  2  4\n",
      "   2 -1  4  2  4 -1  3  3  1 -1  1  2 -1  3  1  4  4  3  3 -1  4 -1 -1  2\n",
      "   4  3  4  2 -1  2  1  2 -1  1  1  4  2  4  1  1  4  1 -1  1  4  4  4  4\n",
      "   1 -1  2  2  1  4  3 -1  2  1  4  3 -1  2  3 -1 -1  4 -1  3 -1  2  1  1\n",
      "   4  3  3  3]]\n"
     ]
    }
   ],
   "source": [
    "# Read the MSA file\n",
    "align = AlignIO.read('./samples/msa.fasta', 'fasta')\n",
    "\n",
    "# Define the MSA alphabet: DNA/Amino Acids\n",
    "alphabet_type = 'dna'\n",
    "\n",
    "if alphabet_type=='aa':\n",
    "    #defining amino acid letters :ARNDCQEGHILKMFPSTWYV-\n",
    "    letter = {'A': 1, 'R':2, 'N':3, 'D':4, 'C':5, 'Q':6, \n",
    "              'E':7, 'G':8, 'H':9, 'I':10, 'L':11, 'K':12, \n",
    "              'M':13, 'F':14,'P':15, 'S':16, 'T':17, 'W':18,\n",
    "              'Y':19, 'V':20, 'B':0, 'X':0, '-':-1 }\n",
    "elif alphabet_type== 'dna':\n",
    "    #defining dna letters ACGT-\n",
    "    letter = {'A':1, 'C':2, 'G':3, 'T':4, 'X': 0, 'N':0, 'B':0, '-':-1}\n",
    "\n",
    "print(\"The letter and their corresponding codes:\\n\", letter)\n",
    "\n",
    "\n",
    "# Extract sequences as a list of strings\n",
    "sequences = [str(record.seq) for record in align]\n",
    "\n",
    "# Create an empty NumPy matrix filled with gaps (e.g., '-')\n",
    "alignment_matrix = np.full((len(sequences), alignment_length), 0, dtype=int)\n",
    "\n",
    "# Fill the NumPy matrix with mapped numbers\n",
    "for i, seq in enumerate(sequences):\n",
    "    for j, char in enumerate(seq):\n",
    "        alignment_matrix[i, j] = letter.get(char, -1)\n",
    "\n",
    "# Print the NumPy matrix\n",
    "print(\"\\nAlignment Matrix:\\n\")\n",
    "print(alignment_matrix)"
   ]
  },
  {
   "cell_type": "code",
   "execution_count": 7,
   "id": "e208e763",
   "metadata": {},
   "outputs": [
    {
     "name": "stdout",
     "output_type": "stream",
     "text": [
      "-10\n"
     ]
    }
   ],
   "source": []
  }
 ],
 "metadata": {
  "kernelspec": {
   "display_name": "Python 3 (ipykernel)",
   "language": "python",
   "name": "python3"
  },
  "language_info": {
   "codemirror_mode": {
    "name": "ipython",
    "version": 3
   },
   "file_extension": ".py",
   "mimetype": "text/x-python",
   "name": "python",
   "nbconvert_exporter": "python",
   "pygments_lexer": "ipython3",
   "version": "3.7.11"
  }
 },
 "nbformat": 4,
 "nbformat_minor": 5
}
