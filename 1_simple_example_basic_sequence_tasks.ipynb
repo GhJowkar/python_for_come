{
 "cells": [
  {
   "cell_type": "markdown",
   "id": "4f5c82f7",
   "metadata": {},
   "source": [
    "# Sequence example\n",
    "\n",
    "To get started with sequences, we begin by importing some useful python packages:\n"
   ]
  },
  {
   "cell_type": "code",
   "execution_count": 5,
   "id": "0282f4db",
   "metadata": {},
   "outputs": [],
   "source": [
    "# useful imports\n",
    "import numpy as np\n",
    "import pandas as pd\n",
    "from Bio import AlignIO, SeqIO, Seq "
   ]
  },
  {
   "cell_type": "markdown",
   "id": "f5f3cb3c",
   "metadata": {},
   "source": [
    "Read the raw sequence:"
   ]
  },
  {
   "cell_type": "code",
   "execution_count": 6,
   "id": "b3f33d5a",
   "metadata": {},
   "outputs": [],
   "source": [
    "rna_itr = SeqIO.parse('./samples/sequence.fasta', 'fasta')"
   ]
  },
  {
   "cell_type": "markdown",
   "id": "5fe8d521",
   "metadata": {},
   "source": [
    "Translation (Convert the RNA sequence to the Amino Acids):"
   ]
  },
  {
   "cell_type": "code",
   "execution_count": 7,
   "id": "3cc80110",
   "metadata": {},
   "outputs": [
    {
     "name": "stdout",
     "output_type": "stream",
     "text": [
      "The translation is done.\n"
     ]
    }
   ],
   "source": [
    "aa_itr = [] # Defining an array to store the translated sequence\n",
    "\n",
    "for record in rna_itr:\n",
    "    if ((len(record.seq))%3 != 0): # A codon is the triplet of a set of bases\n",
    "        print(\"The sequence %s 's length is not devided by three\" %record.id)\n",
    "    # Translation is terminated at the first in frame stop codon o.w.use False.\n",
    "    tmp_aa = record.translate(to_stop=True) \n",
    "    tmp_aa.id = record.id    \n",
    "    aa_itr.append(tmp_aa)\n",
    "\n",
    "print(\"The translation is done.\")   "
   ]
  },
  {
   "cell_type": "markdown",
   "id": "637386b0",
   "metadata": {},
   "source": [
    "Save the result in the a 'fasta' file:"
   ]
  },
  {
   "cell_type": "code",
   "execution_count": 8,
   "id": "64e11960",
   "metadata": {},
   "outputs": [
    {
     "data": {
      "text/plain": [
       "8"
      ]
     },
     "execution_count": 8,
     "metadata": {},
     "output_type": "execute_result"
    }
   ],
   "source": [
    "SeqIO.write(aa_itr, './samples/sequence_aa.fasta', 'fasta')"
   ]
  },
  {
   "cell_type": "markdown",
   "id": "74ab4e1e",
   "metadata": {},
   "source": [
    "Read the multiple sequence alignment(MSA):"
   ]
  },
  {
   "cell_type": "code",
   "execution_count": 12,
   "id": "96a59f59",
   "metadata": {},
   "outputs": [],
   "source": [
    "align = AlignIO.read('./samples/msa.fasta', 'fasta')"
   ]
  },
  {
   "cell_type": "markdown",
   "id": "0cf93b2d",
   "metadata": {},
   "source": [
    "Convert alignment file from 'Fasta' to 'Phylip':"
   ]
  },
  {
   "cell_type": "code",
   "execution_count": 13,
   "id": "5b0d5f6c",
   "metadata": {},
   "outputs": [
    {
     "data": {
      "text/plain": [
       "1"
      ]
     },
     "execution_count": 13,
     "metadata": {},
     "output_type": "execute_result"
    }
   ],
   "source": [
    "AlignIO.write(align, './samples/msa.phy', 'phylip')# phylip-relaxed or phylip"
   ]
  },
  {
   "cell_type": "markdown",
   "id": "b86f25a5",
   "metadata": {},
   "source": [
    "Get alignment length:"
   ]
  },
  {
   "cell_type": "code",
   "execution_count": 17,
   "id": "4e8839b7",
   "metadata": {},
   "outputs": [
    {
     "name": "stdout",
     "output_type": "stream",
     "text": [
      "The total lenght of alignment is 100.\n"
     ]
    }
   ],
   "source": [
    "print(\"The total lenght of alignment is %s.\" %align.get_alignment_length())"
   ]
  }
 ],
 "metadata": {
  "kernelspec": {
   "display_name": "Python 3 (ipykernel)",
   "language": "python",
   "name": "python3"
  },
  "language_info": {
   "codemirror_mode": {
    "name": "ipython",
    "version": 3
   },
   "file_extension": ".py",
   "mimetype": "text/x-python",
   "name": "python",
   "nbconvert_exporter": "python",
   "pygments_lexer": "ipython3",
   "version": "3.7.11"
  }
 },
 "nbformat": 4,
 "nbformat_minor": 5
}
