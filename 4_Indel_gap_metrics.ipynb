{
 "cells": [
  {
   "cell_type": "markdown",
   "id": "b0dbce3d",
   "metadata": {},
   "source": [
    "# Indel/gap metric example"
   ]
  },
  {
   "cell_type": "markdown",
   "id": "bb0c4dec",
   "metadata": {},
   "source": [
    "To get started with sequences, we begin by importing some useful python packages:"
   ]
  },
  {
   "cell_type": "code",
   "execution_count": 11,
   "id": "16ae9531",
   "metadata": {},
   "outputs": [],
   "source": [
    "# useful imports\n",
    "import sys, re # re is regular expression lib\n",
    "import numpy as np\n",
    "import pandas as pd\n",
    "from Bio import AlignIO, SeqIO, Seq "
   ]
  },
  {
   "cell_type": "markdown",
   "id": "8ff0ddda",
   "metadata": {},
   "source": [
    "Read input MSA conatins gaps representing indel events"
   ]
  },
  {
   "cell_type": "code",
   "execution_count": 12,
   "id": "26235b79",
   "metadata": {},
   "outputs": [],
   "source": [
    "align = AlignIO.read('./samples/msa.fasta', 'fasta')"
   ]
  },
  {
   "cell_type": "markdown",
   "id": "fffbe482",
   "metadata": {},
   "source": [
    "Extract gap length for each strach of gap per each record"
   ]
  },
  {
   "cell_type": "code",
   "execution_count": 15,
   "id": "f0c876fd",
   "metadata": {},
   "outputs": [],
   "source": [
    "# making an empty dictionary of species to store the information\n",
    "dict_gap_len_species = {}\n",
    "for rec in align:\n",
    "    dict_gap_len_species[rec.id] = []\n",
    "# print(dict_gap_len_species)\n",
    "\n",
    "# gap length per each specie\n",
    "for record in align:\n",
    "    tmp_rc_id = ''\n",
    "    matches = list(re.finditer('-+', str(record.seq)))\n",
    "    # when a stretch of gap exists\n",
    "    if len(matches) != 0:\n",
    "        if tmp_rc_id != record.id:\n",
    "            tmp_rc_id = record.id\n",
    "        for region_number, match in enumerate(matches, 1):\n",
    "            # store the gap length\n",
    "            gap_length = match.end() - match.start()\n",
    "            dict_gap_len_species[record.id].append(gap_length)"
   ]
  },
  {
   "cell_type": "markdown",
   "id": "b6583cca",
   "metadata": {},
   "source": [
    "Plot the gap length distribution"
   ]
  },
  {
   "cell_type": "code",
   "execution_count": null,
   "id": "e3a31818",
   "metadata": {},
   "outputs": [],
   "source": []
  }
 ],
 "metadata": {
  "kernelspec": {
   "display_name": "Python 3 (ipykernel)",
   "language": "python",
   "name": "python3"
  },
  "language_info": {
   "codemirror_mode": {
    "name": "ipython",
    "version": 3
   },
   "file_extension": ".py",
   "mimetype": "text/x-python",
   "name": "python",
   "nbconvert_exporter": "python",
   "pygments_lexer": "ipython3",
   "version": "3.7.11"
  }
 },
 "nbformat": 4,
 "nbformat_minor": 5
}
