{
 "cells": [
  {
   "cell_type": "markdown",
   "id": "eb881090",
   "metadata": {},
   "source": [
    "# Indel/gap metric example"
   ]
  },
  {
   "cell_type": "markdown",
   "id": "b30e638e",
   "metadata": {},
   "source": [
    "To get started with sequences, we begin by importing some useful python packages:"
   ]
  },
  {
   "cell_type": "code",
   "execution_count": 12,
   "id": "94393798",
   "metadata": {},
   "outputs": [],
   "source": [
    "# useful imports\n",
    "import sys, re # re is regular expression lib\n",
    "import numpy as np\n",
    "import pandas as pd\n",
    "from Bio import AlignIO, SeqIO, Seq \n",
    "import matplotlib.pyplot as plt\n",
    "import seaborn as sns"
   ]
  },
  {
   "cell_type": "markdown",
   "id": "80e311f4",
   "metadata": {},
   "source": [
    "Read input MSA conatins gaps representing indel events:"
   ]
  },
  {
   "cell_type": "code",
   "execution_count": 9,
   "id": "6cb93c32",
   "metadata": {},
   "outputs": [],
   "source": [
    "align = AlignIO.read('./samples/arpip/msa.fasta', 'fasta')"
   ]
  },
  {
   "cell_type": "markdown",
   "id": "192164cd",
   "metadata": {},
   "source": [
    "Extract gap length for each strach of gap per each record and store them in a dictionary: "
   ]
  },
  {
   "cell_type": "code",
   "execution_count": 10,
   "id": "5f85e173",
   "metadata": {},
   "outputs": [],
   "source": [
    "# making an empty dictionary of species to store the information\n",
    "dict_gap_len_species = {}\n",
    "for rec in align:\n",
    "    dict_gap_len_species[rec.id] = []\n",
    "# print(dict_gap_len_species)\n",
    "\n",
    "# gap length per each specie\n",
    "for record in align:\n",
    "    tmp_rc_id = ''\n",
    "    matches = list(re.finditer('-+', str(record.seq)))\n",
    "    # when a stretch of gap exists\n",
    "    if len(matches) != 0:\n",
    "        if tmp_rc_id != record.id:\n",
    "            tmp_rc_id = record.id\n",
    "        for region_number, match in enumerate(matches, 1):\n",
    "            # store the gap length\n",
    "            gap_length = match.end() - match.start()\n",
    "            dict_gap_len_species[record.id].append(gap_length)"
   ]
  },
  {
   "cell_type": "markdown",
   "id": "404d886e",
   "metadata": {},
   "source": [
    "Plot the gap length distribution"
   ]
  },
  {
   "cell_type": "code",
   "execution_count": 15,
   "id": "e5f63c5f",
   "metadata": {},
   "outputs": [
    {
     "name": "stdout",
     "output_type": "stream",
     "text": [
      "The list of gap elements: [4, 4, 1, 1, 1, 1, 3, 1, 1, 2, 1, 1, 3, 1, 1]\n"
     ]
    },
    {
     "data": {
      "image/png": "[encoded data removed]",
      "text/plain": [
       "<Figure size 640x480 with 1 Axes>"
      ]
     },
     "metadata": {},
     "output_type": "display_data"
    }
   ],
   "source": [
    "lst_gap_lengths = sum(dict_gap_len_species.values(), [])\n",
    "print(\"The list of gap elements:\", (lst_gap_lengths))\n",
    "\n",
    "# Plot histogram\n",
    "sns.histplot(lst_gap_lengths, bins=5, color='skyblue', edgecolor='black')\n",
    "\n",
    "# Add labels and title\n",
    "plt.xlabel('Values')\n",
    "plt.ylabel('Frequency')\n",
    "plt.title('Histogram of Gap Length')\n",
    "\n",
    "# Show the plot\n",
    "plt.show()"
   ]
  },
  {
   "cell_type": "markdown",
   "id": "f3c1b373",
   "metadata": {},
   "source": [
    "Extracting indel events"
   ]
  },
  {
   "cell_type": "code",
   "execution_count": null,
   "id": "e32dee8e",
   "metadata": {},
   "outputs": [],
   "source": []
  },
  {
   "cell_type": "markdown",
   "id": "f322c133",
   "metadata": {},
   "source": [
    "### Computing indel bias"
   ]
  },
  {
   "cell_type": "code",
   "execution_count": null,
   "id": "d9bdd7c5",
   "metadata": {},
   "outputs": [],
   "source": []
  }
 ],
 "metadata": {
  "kernelspec": {
   "display_name": "Python 3 (ipykernel)",
   "language": "python",
   "name": "python3"
  },
  "language_info": {
   "codemirror_mode": {
    "name": "ipython",
    "version": 3
   },
   "file_extension": ".py",
   "mimetype": "text/x-python",
   "name": "python",
   "nbconvert_exporter": "python",
   "pygments_lexer": "ipython3",
   "version": "3.7.11"
  }
 },
 "nbformat": 4,
 "nbformat_minor": 5
}
